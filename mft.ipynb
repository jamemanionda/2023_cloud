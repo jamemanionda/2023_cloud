{
 "cells": [
  {
   "cell_type": "code",
   "execution_count": 8,
   "outputs": [
    {
     "ename": "OSError",
     "evalue": "FS_Info_Con: (tsk3.cpp:214) Unable to open the image as a filesystem at offset: 0x00000000 with error: Cannot determine file system type",
     "output_type": "error",
     "traceback": [
      "\u001B[1;31m---------------------------------------------------------------------------\u001B[0m",
      "\u001B[1;31mOSError\u001B[0m                                   Traceback (most recent call last)",
      "Cell \u001B[1;32mIn[8], line 28\u001B[0m\n\u001B[0;32m     25\u001B[0m             \u001B[38;5;28mprint\u001B[39m(\u001B[38;5;124m\"\u001B[39m\u001B[38;5;124m파일 생성 시간:\u001B[39m\u001B[38;5;124m\"\u001B[39m, file_time)\n\u001B[0;32m     27\u001B[0m \u001B[38;5;28;01mif\u001B[39;00m \u001B[38;5;18m__name__\u001B[39m \u001B[38;5;241m==\u001B[39m \u001B[38;5;124m\"\u001B[39m\u001B[38;5;124m__main__\u001B[39m\u001B[38;5;124m\"\u001B[39m:\n\u001B[1;32m---> 28\u001B[0m     \u001B[43mparse_mft_file\u001B[49m\u001B[43m(\u001B[49m\u001B[43mmft_path\u001B[49m\u001B[43m)\u001B[49m\n",
      "Cell \u001B[1;32mIn[8], line 11\u001B[0m, in \u001B[0;36mparse_mft_file\u001B[1;34m(mft_path)\u001B[0m\n\u001B[0;32m      8\u001B[0m img_info \u001B[38;5;241m=\u001B[39m pytsk3\u001B[38;5;241m.\u001B[39mImg_Info(mft_path)\n\u001B[0;32m     10\u001B[0m \u001B[38;5;66;03m# NTFS 파티션 열기\u001B[39;00m\n\u001B[1;32m---> 11\u001B[0m fs_info \u001B[38;5;241m=\u001B[39m \u001B[43mpytsk3\u001B[49m\u001B[38;5;241;43m.\u001B[39;49m\u001B[43mFS_Info\u001B[49m\u001B[43m(\u001B[49m\u001B[43mimg_info\u001B[49m\u001B[43m,\u001B[49m\u001B[43m \u001B[49m\u001B[43moffset\u001B[49m\u001B[38;5;241;43m=\u001B[39;49m\u001B[38;5;241;43m0\u001B[39;49m\u001B[43m)\u001B[49m\n\u001B[0;32m     13\u001B[0m \u001B[38;5;66;03m# MFT 루트 엔트리 얻기\u001B[39;00m\n\u001B[0;32m     14\u001B[0m root_inode \u001B[38;5;241m=\u001B[39m fs_info\u001B[38;5;241m.\u001B[39mopen_meta(inode\u001B[38;5;241m=\u001B[39m\u001B[38;5;241m5\u001B[39m)\n",
      "\u001B[1;31mOSError\u001B[0m: FS_Info_Con: (tsk3.cpp:214) Unable to open the image as a filesystem at offset: 0x00000000 with error: Cannot determine file system type"
     ]
    }
   ],
   "source": [
    "import os\n",
    "import sys\n",
    "\n",
    "import pandas as pd\n",
    "from PyQt5 import uic\n",
    "from PyQt5.QtWidgets import QMainWindow, QFileDialog\n",
    "from PyQt5.QtWidgets import QApplication\n",
    "import Mft2Csv\n",
    "\n",
    "df = pd.read_csv('Mft.csv', sep='|')\n",
    "df.head()\n",
    "\n",
    "form_class = uic.loadUiType(\"main.ui\")[0]\n",
    "class cloud_analysis(QMainWindow, form_class):\n",
    "    def __init__(self):\n",
    "        super().__init__()\n",
    "        self.setupUi(self)\n",
    "\n",
    "\n",
    "    def main(self):\n",
    "        print('분석대상 클라우드를 선택하세요')\n",
    "        self.comboBox.activated.connect(self.on_combobox_select)\n",
    "\n",
    "        self.fileSelect.clicked.connect(self.input_mft)\n",
    "\n",
    "    def input_mft(self):\n",
    "        mft_filename = QFileDialog.getOpenFileName(self, 'File Load', '',\n",
    "                                                     'All File(*)')\n",
    "        mftfile = mft_filename[0]\n",
    "        self.mft_filepath = mftfile.replace('/', '\\\\')\n",
    "        self.mftInput.setText(self.mft_filepath)\n",
    "        if self.mft_filepath not in self.filepath_list:\n",
    "            self.filepath_list.append(self.mft_filepath)\n",
    "\n",
    "\n",
    "\n",
    "    def file_selected(self, index):\n",
    "        file_info = self.dirModel.fileInfo(index)\n",
    "        if file_info.isDir():  # If a directory is selected\n",
    "            self.select_all_files_in_directory(file_info.absoluteFilePath())\n",
    "        else:\n",
    "            file_path = file_info.absoluteFilePath()\n",
    "            extension = os.path.splitext(file_path)[1]\n",
    "            self.filter_files_by_extension(extension)\n",
    "            if file_path not in self.file_paths:\n",
    "                self.listWidget.addItem(file_path)\n",
    "                self.file_paths.append(file_path)\n",
    "\n",
    "    def on_combobox_select(self, index):\n",
    "        selected_option = self.sender().currentText()\n",
    "        if selected_option == \"Dropbox\":\n",
    "            self.cloudnum == 1\n",
    "\n",
    "    def fileparsetime(self, search_name):\n",
    "        search_name = search_name\n",
    "        filtered_df = df.loc[df['FN_FileName_2']==search_name]\n",
    "        timelist = []\n",
    "\n",
    "        FN_MTime = filtered_df['FN_MTime_2'].iloc[0]\n",
    "        FN_ATime = filtered_df['FN_ATime_2'].iloc[0]\n",
    "        FN_CTime = filtered_df['FN_CTime_2'].iloc[0]\n",
    "        FN_RTime = filtered_df['FN_RTime_2'].iloc[0]\n",
    "        SI_MTime = filtered_df['SI_MTime'].iloc[0]\n",
    "        SI_ATime = filtered_df['SI_ATime'].iloc[0]\n",
    "        SI_CTime = filtered_df['SI_CTime'].iloc[0]\n",
    "        SI_RTime = filtered_df['SI_RTime'].iloc[0]\n",
    "\n",
    "        timelist.append(FN_MTime)\n",
    "        timelist.append(FN_ATime)\n",
    "        timelist.append(FN_CTime)\n",
    "        timelist.append(FN_RTime)\n",
    "        timelist.append(SI_MTime)\n",
    "        timelist.append(SI_ATime)\n",
    "        timelist.append(SI_CTime)\n",
    "        timelist.append(SI_RTime)\n",
    "\n",
    "\n",
    "        return timelist, FN_MTime, FN_ATime, FN_CTime, FN_RTime, SI_MTime, SI_ATime, SI_CTime, SI_RTime\n",
    "\n",
    "\n",
    "    def inputvalue(self, inputcloud, filename):\n",
    "\n",
    "        timelist, FN_MTime, FN_ATime, FN_CTime, FN_RTime, SI_MTime, SI_ATime, SI_CTime, SI_RTime = fileparsetime(filename)\n",
    "        inputcloud = inputcloud\n",
    "        FP0 = -1\n",
    "\n",
    "        if inputcloud == 1: # cloud 가 dropbox 일때\n",
    "            for i in timelist:\n",
    "                a = i.split('.')\n",
    "                if a[1] == '0000000':\n",
    "                    FP0 = 1\n",
    "                    print('FP0이 나타남')\n",
    "                else :\n",
    "                    FP0 = 0\n",
    "\n",
    "\n",
    "            if FP0 == 1:\n",
    "                if FN_MTime == FN_ATime :\n",
    "                    print('remote PC(Upload or Copy)')\n",
    "                    print('remote PC(Copy)')\n",
    "                else :\n",
    "                    if SI_RTime == FN_RTime:\n",
    "                        print('remote PC(Move or Rename)')\n",
    "                    else :\n",
    "                        if SI_MTime == FN_MTime:\n",
    "                            print('local PC(Move or Rename)')\n",
    "                        else :\n",
    "                            print('local PC(Copy)')\n",
    "\n",
    "            elif FP0 == 0 :\n",
    "                if SI_CTime == FN_MTime == FN_ATime == FN_CTime == FN_RTime:\n",
    "                    print('local PC(UC)')\n",
    "                elif SI_RTime == FN_RTime:\n",
    "                    print('remote PC(MR)')\n",
    "                else :\n",
    "                    print('local PC(MR)')\n",
    "\n",
    "\n",
    "if __name__ == '__main__':\n",
    "    app = QApplication(sys.argv)\n",
    "    ex = cloud_analysis()\n",
    "    ex.show()\n",
    "    app.exec_()\n"
   ],
   "metadata": {
    "collapsed": false
   }
  },
  {
   "cell_type": "code",
   "execution_count": 5,
   "outputs": [
    {
     "ename": "TypeError",
     "evalue": "sequence item 0: expected str instance, bytes found",
     "output_type": "error",
     "traceback": [
      "\u001B[1;31m---------------------------------------------------------------------------\u001B[0m",
      "\u001B[1;31mTypeError\u001B[0m                                 Traceback (most recent call last)",
      "Cell \u001B[1;32mIn[5], line 2\u001B[0m\n\u001B[0;32m      1\u001B[0m ex \u001B[38;5;241m=\u001B[39m Path_Parsing()\n\u001B[1;32m----> 2\u001B[0m \u001B[43mex\u001B[49m\u001B[38;5;241;43m.\u001B[39;49m\u001B[43mRead_MFT\u001B[49m\u001B[43m(\u001B[49m\u001B[43m)\u001B[49m\n",
      "Cell \u001B[1;32mIn[3], line 55\u001B[0m, in \u001B[0;36mPath_Parsing.Read_MFT\u001B[1;34m(self)\u001B[0m\n\u001B[0;32m     53\u001B[0m \t\u001B[38;5;28;01mbreak\u001B[39;00m\n\u001B[0;32m     54\u001B[0m \u001B[38;5;28;01mif\u001B[39;00m LtoI(\u001B[38;5;28mself\u001B[39m\u001B[38;5;241m.\u001B[39mbuf[\u001B[38;5;241m0x16\u001B[39m:\u001B[38;5;241m0x18\u001B[39m]) \u001B[38;5;241m==\u001B[39m \u001B[38;5;241m0x3\u001B[39m:\n\u001B[1;32m---> 55\u001B[0m \ttmp\u001B[38;5;241m=\u001B[39m\u001B[38;5;28;43mself\u001B[39;49m\u001B[38;5;241;43m.\u001B[39;49m\u001B[43mDir_name_seq\u001B[49m\u001B[43m(\u001B[49m\u001B[43m)\u001B[49m\n\u001B[0;32m     56\u001B[0m \t\u001B[38;5;66;03m# seq_num=LtoI(self.buf[0x10:0x12])\u001B[39;00m\n\u001B[0;32m     57\u001B[0m \t\u001B[38;5;28mself\u001B[39m\u001B[38;5;241m.\u001B[39marr\u001B[38;5;241m.\u001B[39mappend(\u001B[38;5;28mself\u001B[39m\u001B[38;5;241m.\u001B[39mseq)\n",
      "Cell \u001B[1;32mIn[3], line 82\u001B[0m, in \u001B[0;36mPath_Parsing.Dir_name_seq\u001B[1;34m(self)\u001B[0m\n\u001B[0;32m     80\u001B[0m \t\tdir_pseq\u001B[38;5;241m=\u001B[39mLtoI(attr_buf[\u001B[38;5;241m0x18\u001B[39m:\u001B[38;5;241m0x1b\u001B[39m])\n\u001B[0;32m     81\u001B[0m \t\tdir_name_len\u001B[38;5;241m=\u001B[39mattr_buf[\u001B[38;5;241m0x58\u001B[39m]\u001B[38;5;241m*\u001B[39m\u001B[38;5;241m2\u001B[39m\n\u001B[1;32m---> 82\u001B[0m \t\tdir_name\u001B[38;5;241m=\u001B[39m\u001B[43mRemove_uni_null\u001B[49m\u001B[43m(\u001B[49m\u001B[43mattr_buf\u001B[49m\u001B[43m[\u001B[49m\u001B[38;5;241;43m0x5a\u001B[39;49m\u001B[43m:\u001B[49m\u001B[38;5;241;43m0x5a\u001B[39;49m\u001B[38;5;241;43m+\u001B[39;49m\u001B[43mdir_name_len\u001B[49m\u001B[43m]\u001B[49m\u001B[43m)\u001B[49m\n\u001B[0;32m     84\u001B[0m \tattr_buf\u001B[38;5;241m=\u001B[39mattr_buf[attr_size:]\n\u001B[0;32m     85\u001B[0m \u001B[38;5;28;01mreturn\u001B[39;00m dir_name,dir_pseq\n",
      "Cell \u001B[1;32mIn[3], line 101\u001B[0m, in \u001B[0;36mRemove_uni_null\u001B[1;34m(uni_str)\u001B[0m\n\u001B[0;32m     99\u001B[0m \t\ttmp\u001B[38;5;241m.\u001B[39mappend(\u001B[38;5;28mchr\u001B[39m(uni_str[count]))\n\u001B[0;32m    100\u001B[0m \tcount\u001B[38;5;241m+\u001B[39m\u001B[38;5;241m=\u001B[39m\u001B[38;5;241m2\u001B[39m\n\u001B[1;32m--> 101\u001B[0m \u001B[38;5;28;01mreturn\u001B[39;00m \u001B[38;5;124;43m'\u001B[39;49m\u001B[38;5;124;43m'\u001B[39;49m\u001B[38;5;241;43m.\u001B[39;49m\u001B[43mjoin\u001B[49m\u001B[43m(\u001B[49m\u001B[43mtmp\u001B[49m\u001B[43m)\u001B[49m\n",
      "\u001B[1;31mTypeError\u001B[0m: sequence item 0: expected str instance, bytes found"
     ]
    }
   ],
   "source": [
    "ex = Path_Parsing()\n",
    "ex.Read_MFT()"
   ],
   "metadata": {
    "collapsed": false
   }
  },
  {
   "cell_type": "code",
   "execution_count": null,
   "outputs": [],
   "source": [],
   "metadata": {
    "collapsed": false
   }
  }
 ],
 "metadata": {
  "kernelspec": {
   "display_name": "Python 3",
   "language": "python",
   "name": "python3"
  },
  "language_info": {
   "codemirror_mode": {
    "name": "ipython",
    "version": 2
   },
   "file_extension": ".py",
   "mimetype": "text/x-python",
   "name": "python",
   "nbconvert_exporter": "python",
   "pygments_lexer": "ipython2",
   "version": "2.7.6"
  }
 },
 "nbformat": 4,
 "nbformat_minor": 0
}
